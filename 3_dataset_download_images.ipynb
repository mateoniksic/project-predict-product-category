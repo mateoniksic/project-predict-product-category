{
 "cells": [
  {
   "cell_type": "markdown",
   "metadata": {},
   "source": [
    "# Preuzimanje slika\n",
    "\n",
    "---\n",
    "\n",
    "## 1. Uvoz knjižnica i postavke"
   ]
  },
  {
   "cell_type": "code",
   "execution_count": 1,
   "metadata": {},
   "outputs": [],
   "source": [
    "# Knjižnice\n",
    "import os\n",
    "import pandas as pd\n",
    "import requests\n",
    "from tqdm import tqdm\n",
    "import time\n",
    "from PIL import Image"
   ]
  },
  {
   "cell_type": "code",
   "execution_count": 2,
   "metadata": {},
   "outputs": [],
   "source": [
    "# Postavke bilježnice\n",
    "pd.set_option('display.max_rows', None)\n",
    "pd.set_option('display.max_columns', None)\n",
    "pd.set_option('display.max_colwidth', None)"
   ]
  },
  {
   "cell_type": "markdown",
   "metadata": {},
   "source": [
    "---\n",
    "\n",
    "## 2. Preuzimanje slika i ažuriranje dataseta"
   ]
  },
  {
   "cell_type": "code",
   "execution_count": 3,
   "metadata": {},
   "outputs": [],
   "source": [
    "# Funkcija za preuzimanje slika, resize slika na 224x224 dimenzije i spremanje dimenzije slika (widthxheight)\n",
    "def download_images(dataset_path, images_dir):\n",
    "    data = pd.read_csv(dataset_path)\n",
    "    data[\"image_path\"] = None\n",
    "    data[\"image_original_width\"] = None\n",
    "    data[\"image_original_height\"] = None\n",
    "\n",
    "    def download_and_resize_image(url, output_path, target_size=(224, 224)):\n",
    "        try:\n",
    "            response = requests.get(url, timeout=10)\n",
    "            \n",
    "            if response.status_code == 200:\n",
    "                raw_image_path = output_path + \"_raw\"\n",
    "                \n",
    "                with open(raw_image_path, \"wb\") as f:\n",
    "                    f.write(response.content)\n",
    "\n",
    "                with Image.open(raw_image_path) as img:\n",
    "                    original_width, original_height = img.width, img.height\n",
    "                    img = img.convert(\"RGB\")\n",
    "                    img = img.resize(target_size, Image.Resampling.LANCZOS)\n",
    "                    img.save(output_path)\n",
    "\n",
    "                os.remove(raw_image_path)\n",
    "                # time.sleep(0.5)\n",
    "\n",
    "                return output_path, original_width, original_height\n",
    "            \n",
    "            else:\n",
    "                print(f\"Preuzimanje slike neuspjelo: {url}\")\n",
    "                return None, None, None\n",
    "\n",
    "        except Exception as e:\n",
    "            print(f\"Greška prilikom preuzimanja i obrade: {url} - {e}\")\n",
    "            return None, None, None\n",
    "\n",
    "    for index, row in tqdm(data.iterrows(), total=len(data), desc=f\"Preuzimanje i obrada slika za {os.path.basename(dataset_path)}\"):\n",
    "        image_url = row.get(\"image_large\")\n",
    "\n",
    "        if pd.notnull(image_url):\n",
    "            filename = f\"product_{index}.jpg\"\n",
    "            output_path = os.path.join(images_dir, filename)\n",
    "            local_path, width, height = download_and_resize_image(image_url, output_path)\n",
    "\n",
    "            if local_path:\n",
    "                data.at[index, \"image_path\"] = local_path\n",
    "                data.at[index, \"image_original_width\"] = width\n",
    "                data.at[index, \"image_original_height\"] = height\n",
    "\n",
    "    data.to_csv(dataset_path, index=True, index_label=\"product_id\")\n",
    "    print(f\"Ažuriran skup podataka je spremljen: {dataset_path}\")"
   ]
  },
  {
   "cell_type": "code",
   "execution_count": 4,
   "metadata": {},
   "outputs": [
    {
     "name": "stderr",
     "output_type": "stream",
     "text": [
      "Preuzimanje i obrada slika za dataset_clean.csv:  52%|█████▏    | 25825/50000 [1:26:43<21:39:55,  3.23s/it]"
     ]
    },
    {
     "name": "stdout",
     "output_type": "stream",
     "text": [
      "Greška prilikom preuzimanja i obrade: https://m.media-amazon.com/images/I/41jhzevB2IL._AC_.jpg - HTTPSConnectionPool(host='m.media-amazon.com', port=443): Read timed out. (read timeout=10)\n"
     ]
    },
    {
     "name": "stderr",
     "output_type": "stream",
     "text": [
      "Preuzimanje i obrada slika za dataset_clean.csv:  54%|█████▍    | 27194/50000 [1:30:37<19:54:44,  3.14s/it]"
     ]
    },
    {
     "name": "stdout",
     "output_type": "stream",
     "text": [
      "Greška prilikom preuzimanja i obrade: https://m.media-amazon.com/images/I/517efqOqHeL.jpg - HTTPSConnectionPool(host='m.media-amazon.com', port=443): Read timed out. (read timeout=10)\n"
     ]
    },
    {
     "name": "stderr",
     "output_type": "stream",
     "text": [
      "Preuzimanje i obrada slika za dataset_clean.csv:  63%|██████▎   | 31626/50000 [1:45:33<15:58:06,  3.13s/it]"
     ]
    },
    {
     "name": "stdout",
     "output_type": "stream",
     "text": [
      "Greška prilikom preuzimanja i obrade: https://m.media-amazon.com/images/I/519K+7nUQHL._AC_.jpg - HTTPSConnectionPool(host='m.media-amazon.com', port=443): Read timed out. (read timeout=10)\n"
     ]
    },
    {
     "name": "stderr",
     "output_type": "stream",
     "text": [
      "Preuzimanje i obrada slika za dataset_clean.csv:  73%|███████▎  | 36256/50000 [2:00:16<8:38:32,  2.26s/it] "
     ]
    },
    {
     "name": "stdout",
     "output_type": "stream",
     "text": [
      "Greška prilikom preuzimanja i obrade: https://m.media-amazon.com/images/I/31w0Hy0bizL._AC_.jpg - HTTPSConnectionPool(host='m.media-amazon.com', port=443): Read timed out. (read timeout=10)\n"
     ]
    },
    {
     "name": "stderr",
     "output_type": "stream",
     "text": [
      "Preuzimanje i obrada slika za dataset_clean.csv:  99%|█████████▉| 49556/50000 [2:45:47<23:17,  3.15s/it]  "
     ]
    },
    {
     "name": "stdout",
     "output_type": "stream",
     "text": [
      "Greška prilikom preuzimanja i obrade: https://m.media-amazon.com/images/I/512uzwUUCcL._AC_.jpg - HTTPSConnectionPool(host='m.media-amazon.com', port=443): Read timed out. (read timeout=10)\n"
     ]
    },
    {
     "name": "stderr",
     "output_type": "stream",
     "text": [
      "Preuzimanje i obrada slika za dataset_clean.csv: 100%|██████████| 50000/50000 [2:47:12<00:00,  4.98it/s]\n"
     ]
    },
    {
     "name": "stdout",
     "output_type": "stream",
     "text": [
      "Ažuriran skup podataka je spremljen: ./datasets/dataset_clean/dataset_clean.csv\n"
     ]
    },
    {
     "name": "stderr",
     "output_type": "stream",
     "text": [
      "Preuzimanje i obrada slika za dataset_remaining.csv:  15%|█▍        | 5455/37105 [18:06<20:48:08,  2.37s/it]"
     ]
    },
    {
     "name": "stdout",
     "output_type": "stream",
     "text": [
      "Greška prilikom preuzimanja i obrade: https://m.media-amazon.com/images/I/41UyLBj8oJL._AC_.jpg - HTTPSConnectionPool(host='m.media-amazon.com', port=443): Read timed out. (read timeout=10)\n"
     ]
    },
    {
     "name": "stderr",
     "output_type": "stream",
     "text": [
      "Preuzimanje i obrada slika za dataset_remaining.csv:  55%|█████▍    | 20246/37105 [1:09:17<10:33:53,  2.26s/it]"
     ]
    },
    {
     "name": "stdout",
     "output_type": "stream",
     "text": [
      "Greška prilikom preuzimanja i obrade: https://m.media-amazon.com/images/I/41y7MSqK35L._AC_.jpg - HTTPSConnectionPool(host='m.media-amazon.com', port=443): Read timed out. (read timeout=10)\n"
     ]
    },
    {
     "name": "stderr",
     "output_type": "stream",
     "text": [
      "Preuzimanje i obrada slika za dataset_remaining.csv:  58%|█████▊    | 21497/37105 [1:13:18<9:47:35,  2.26s/it] "
     ]
    },
    {
     "name": "stdout",
     "output_type": "stream",
     "text": [
      "Greška prilikom preuzimanja i obrade: https://m.media-amazon.com/images/I/31MUN6FUFkL._AC_.jpg - HTTPSConnectionPool(host='m.media-amazon.com', port=443): Read timed out. (read timeout=10)\n"
     ]
    },
    {
     "name": "stderr",
     "output_type": "stream",
     "text": [
      "Preuzimanje i obrada slika za dataset_remaining.csv: 100%|██████████| 37105/37105 [2:04:45<00:00,  4.96it/s]  \n"
     ]
    },
    {
     "name": "stdout",
     "output_type": "stream",
     "text": [
      "Ažuriran skup podataka je spremljen: ./datasets/dataset_remaining/dataset_remaining.csv\n"
     ]
    }
   ],
   "source": [
    "# Preuzimanje slika i ažuriranje skupa podataka\n",
    "clean_dataset_path = \"./datasets/dataset_clean/dataset_clean.csv\"\n",
    "remaining_dataset_path = \"./datasets/dataset_remaining/dataset_remaining.csv\"\n",
    "\n",
    "clean_images_dir = \"./datasets/dataset_clean/images/\"\n",
    "remaining_images_dir = \"./datasets/dataset_remaining/images/\"\n",
    "\n",
    "os.makedirs(clean_images_dir, exist_ok=True)\n",
    "os.makedirs(remaining_images_dir, exist_ok=True)\n",
    "\n",
    "download_images(clean_dataset_path, clean_images_dir)\n",
    "download_images(remaining_dataset_path, remaining_images_dir)"
   ]
  },
  {
   "cell_type": "code",
   "execution_count": 8,
   "metadata": {},
   "outputs": [],
   "source": [
    "def retry_missing_images(dataset_path, images_dir):\n",
    "    data = pd.read_csv(dataset_path)\n",
    "\n",
    "    missing_images = data[data[\"image_path\"].isnull()]\n",
    "\n",
    "    def download_and_resize_image(url, output_path, target_size=(224, 224)):\n",
    "        try:\n",
    "            response = requests.get(url, timeout=10)\n",
    "            if response.status_code == 200:\n",
    "                raw_image_path = output_path + \"_raw\"\n",
    "                with open(raw_image_path, \"wb\") as f:\n",
    "                    f.write(response.content)\n",
    "\n",
    "                with Image.open(raw_image_path) as img:\n",
    "                    original_width, original_height = img.width, img.height\n",
    "                    img = img.convert(\"RGB\")\n",
    "                    img = img.resize(target_size, Image.Resampling.LANCZOS)\n",
    "                    img.save(output_path)\n",
    "\n",
    "                os.remove(raw_image_path)\n",
    "                return output_path, original_width, original_height\n",
    "            \n",
    "            else:\n",
    "                print(f\"Preuzimanje slike neuspjelo: {url}\")\n",
    "                return None, None, None\n",
    "\n",
    "        except Exception as e:\n",
    "            print(f\"Greška prilikom preuzimanja i obrade: {url} - {e}\")\n",
    "            return None, None, None\n",
    "\n",
    "    for index, row in tqdm(missing_images.iterrows(), total=len(missing_images), desc=\"Ponovno preuzimanje slika...\"):\n",
    "        image_url = row[\"image_large\"]\n",
    "        product_id = row[\"product_id\"]\n",
    "\n",
    "        if pd.notnull(image_url):\n",
    "            filename = f\"product_{product_id}.jpg\"\n",
    "            output_path = os.path.join(images_dir, filename)\n",
    "            local_path, width, height = download_and_resize_image(image_url, output_path)\n",
    "\n",
    "            if local_path:\n",
    "                data.at[index, \"image_path\"] = local_path\n",
    "                data.at[index, \"image_original_width\"] = width\n",
    "                data.at[index, \"image_original_height\"] = height\n",
    "\n",
    "    data.to_csv(dataset_path, index=False)\n",
    "    print(f\"Ažuriran skup podataka je spremljen: {dataset_path}\")"
   ]
  },
  {
   "cell_type": "code",
   "execution_count": 9,
   "metadata": {},
   "outputs": [
    {
     "name": "stderr",
     "output_type": "stream",
     "text": [
      "Ponovno preuzimanje slika...: 100%|██████████| 5/5 [00:01<00:00,  4.54it/s]\n"
     ]
    },
    {
     "name": "stdout",
     "output_type": "stream",
     "text": [
      "Ažuriran skup podataka je spremljen: ./datasets/dataset_clean/dataset_clean.csv\n"
     ]
    },
    {
     "name": "stderr",
     "output_type": "stream",
     "text": [
      "Ponovno preuzimanje slika...: 100%|██████████| 3/3 [00:00<00:00,  4.09it/s]\n"
     ]
    },
    {
     "name": "stdout",
     "output_type": "stream",
     "text": [
      "Ažuriran skup podataka je spremljen: ./datasets/dataset_remaining/dataset_remaining.csv\n"
     ]
    }
   ],
   "source": [
    "# Preuzimanje slika i ažuriranje skupa podataka\n",
    "clean_dataset_path = \"./datasets/dataset_clean/dataset_clean.csv\"\n",
    "remaining_dataset_path = \"./datasets/dataset_remaining/dataset_remaining.csv\"\n",
    "\n",
    "clean_images_dir = \"./datasets/dataset_clean/images/\"\n",
    "remaining_images_dir = \"./datasets/dataset_remaining/images/\"\n",
    "\n",
    "retry_missing_images(clean_dataset_path, clean_images_dir)\n",
    "retry_missing_images(remaining_dataset_path, remaining_images_dir)"
   ]
  }
 ],
 "metadata": {
  "kernelspec": {
   "display_name": "Python 3",
   "language": "python",
   "name": "python3"
  },
  "language_info": {
   "codemirror_mode": {
    "name": "ipython",
    "version": 3
   },
   "file_extension": ".py",
   "mimetype": "text/x-python",
   "name": "python",
   "nbconvert_exporter": "python",
   "pygments_lexer": "ipython3",
   "version": "3.10.0"
  }
 },
 "nbformat": 4,
 "nbformat_minor": 2
}
